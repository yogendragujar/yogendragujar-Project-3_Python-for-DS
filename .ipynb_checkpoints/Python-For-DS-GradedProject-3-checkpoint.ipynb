{
 "cells": [
  {
   "cell_type": "markdown",
   "id": "cb90672b",
   "metadata": {},
   "source": [
    "## 1. Import required libraries and read the dataset."
   ]
  },
  {
   "cell_type": "code",
   "execution_count": 1,
   "id": "61de242d",
   "metadata": {},
   "outputs": [],
   "source": [
    "import pandas as pd\n",
    "import numpy as np\n",
    "import seaborn as sns\n",
    "import matplotlib.pyplot as plt\n",
    "import warnings\n",
    "warnings.filterwarnings('ignore')\n",
    "import sklearn\n",
    "from sklearn.preprocessing import StandardScaler,LabelEncoder, MinMaxScaler\n",
    "from sklearn.model_selection import train_test_split\n",
    "from sklearn.metrics import r2_score"
   ]
  },
  {
   "cell_type": "code",
   "execution_count": 2,
   "id": "0d7d7871",
   "metadata": {},
   "outputs": [],
   "source": [
    "df = pd.read_csv('loan_approval_data.csv')"
   ]
  },
  {
   "cell_type": "markdown",
   "id": "bd998428",
   "metadata": {},
   "source": [
    "## 2. Check the first few samples, shape, info of the data and try to familiarize yourself with different features."
   ]
  },
  {
   "cell_type": "code",
   "execution_count": 3,
   "id": "ff4018ed",
   "metadata": {},
   "outputs": [
    {
     "data": {
      "text/html": [
       "<div>\n",
       "<style scoped>\n",
       "    .dataframe tbody tr th:only-of-type {\n",
       "        vertical-align: middle;\n",
       "    }\n",
       "\n",
       "    .dataframe tbody tr th {\n",
       "        vertical-align: top;\n",
       "    }\n",
       "\n",
       "    .dataframe thead th {\n",
       "        text-align: right;\n",
       "    }\n",
       "</style>\n",
       "<table border=\"1\" class=\"dataframe\">\n",
       "  <thead>\n",
       "    <tr style=\"text-align: right;\">\n",
       "      <th></th>\n",
       "      <th>loan_id</th>\n",
       "      <th>gender</th>\n",
       "      <th>married</th>\n",
       "      <th>dependents</th>\n",
       "      <th>education</th>\n",
       "      <th>self_employed</th>\n",
       "      <th>applicantincome</th>\n",
       "      <th>coapplicantincome</th>\n",
       "      <th>loanamount</th>\n",
       "      <th>loan_amount_term</th>\n",
       "      <th>credit_history</th>\n",
       "      <th>property_area</th>\n",
       "      <th>loan_status</th>\n",
       "    </tr>\n",
       "  </thead>\n",
       "  <tbody>\n",
       "    <tr>\n",
       "      <th>0</th>\n",
       "      <td>lp001002</td>\n",
       "      <td>male</td>\n",
       "      <td>no</td>\n",
       "      <td>0.0</td>\n",
       "      <td>graduate</td>\n",
       "      <td>no</td>\n",
       "      <td>5849</td>\n",
       "      <td>0.0</td>\n",
       "      <td>NaN</td>\n",
       "      <td>360.0</td>\n",
       "      <td>1.0</td>\n",
       "      <td>urban</td>\n",
       "      <td>y</td>\n",
       "    </tr>\n",
       "    <tr>\n",
       "      <th>1</th>\n",
       "      <td>lp001003</td>\n",
       "      <td>male</td>\n",
       "      <td>yes</td>\n",
       "      <td>1.0</td>\n",
       "      <td>graduate</td>\n",
       "      <td>no</td>\n",
       "      <td>4583</td>\n",
       "      <td>1508.0</td>\n",
       "      <td>128.0</td>\n",
       "      <td>360.0</td>\n",
       "      <td>1.0</td>\n",
       "      <td>rural</td>\n",
       "      <td>n</td>\n",
       "    </tr>\n",
       "    <tr>\n",
       "      <th>2</th>\n",
       "      <td>lp001005</td>\n",
       "      <td>male</td>\n",
       "      <td>yes</td>\n",
       "      <td>0.0</td>\n",
       "      <td>graduate</td>\n",
       "      <td>yes</td>\n",
       "      <td>3000</td>\n",
       "      <td>0.0</td>\n",
       "      <td>66.0</td>\n",
       "      <td>360.0</td>\n",
       "      <td>1.0</td>\n",
       "      <td>urban</td>\n",
       "      <td>y</td>\n",
       "    </tr>\n",
       "    <tr>\n",
       "      <th>3</th>\n",
       "      <td>lp001006</td>\n",
       "      <td>male</td>\n",
       "      <td>yes</td>\n",
       "      <td>0.0</td>\n",
       "      <td>not graduate</td>\n",
       "      <td>no</td>\n",
       "      <td>2583</td>\n",
       "      <td>2358.0</td>\n",
       "      <td>120.0</td>\n",
       "      <td>360.0</td>\n",
       "      <td>1.0</td>\n",
       "      <td>urban</td>\n",
       "      <td>y</td>\n",
       "    </tr>\n",
       "    <tr>\n",
       "      <th>4</th>\n",
       "      <td>lp001008</td>\n",
       "      <td>male</td>\n",
       "      <td>no</td>\n",
       "      <td>0.0</td>\n",
       "      <td>graduate</td>\n",
       "      <td>no</td>\n",
       "      <td>6000</td>\n",
       "      <td>0.0</td>\n",
       "      <td>141.0</td>\n",
       "      <td>360.0</td>\n",
       "      <td>1.0</td>\n",
       "      <td>urban</td>\n",
       "      <td>y</td>\n",
       "    </tr>\n",
       "    <tr>\n",
       "      <th>5</th>\n",
       "      <td>lp001011</td>\n",
       "      <td>male</td>\n",
       "      <td>yes</td>\n",
       "      <td>2.0</td>\n",
       "      <td>graduate</td>\n",
       "      <td>yes</td>\n",
       "      <td>5417</td>\n",
       "      <td>4196.0</td>\n",
       "      <td>267.0</td>\n",
       "      <td>360.0</td>\n",
       "      <td>1.0</td>\n",
       "      <td>urban</td>\n",
       "      <td>y</td>\n",
       "    </tr>\n",
       "    <tr>\n",
       "      <th>6</th>\n",
       "      <td>lp001013</td>\n",
       "      <td>male</td>\n",
       "      <td>yes</td>\n",
       "      <td>0.0</td>\n",
       "      <td>not graduate</td>\n",
       "      <td>no</td>\n",
       "      <td>2333</td>\n",
       "      <td>1516.0</td>\n",
       "      <td>95.0</td>\n",
       "      <td>360.0</td>\n",
       "      <td>1.0</td>\n",
       "      <td>urban</td>\n",
       "      <td>y</td>\n",
       "    </tr>\n",
       "    <tr>\n",
       "      <th>7</th>\n",
       "      <td>lp001014</td>\n",
       "      <td>male</td>\n",
       "      <td>yes</td>\n",
       "      <td>3.0</td>\n",
       "      <td>graduate</td>\n",
       "      <td>no</td>\n",
       "      <td>3036</td>\n",
       "      <td>2504.0</td>\n",
       "      <td>158.0</td>\n",
       "      <td>360.0</td>\n",
       "      <td>0.0</td>\n",
       "      <td>semiurban</td>\n",
       "      <td>n</td>\n",
       "    </tr>\n",
       "    <tr>\n",
       "      <th>8</th>\n",
       "      <td>lp001018</td>\n",
       "      <td>male</td>\n",
       "      <td>yes</td>\n",
       "      <td>2.0</td>\n",
       "      <td>graduate</td>\n",
       "      <td>no</td>\n",
       "      <td>4006</td>\n",
       "      <td>1526.0</td>\n",
       "      <td>168.0</td>\n",
       "      <td>360.0</td>\n",
       "      <td>1.0</td>\n",
       "      <td>urban</td>\n",
       "      <td>y</td>\n",
       "    </tr>\n",
       "    <tr>\n",
       "      <th>9</th>\n",
       "      <td>lp001020</td>\n",
       "      <td>male</td>\n",
       "      <td>yes</td>\n",
       "      <td>1.0</td>\n",
       "      <td>graduate</td>\n",
       "      <td>no</td>\n",
       "      <td>12841</td>\n",
       "      <td>10968.0</td>\n",
       "      <td>349.0</td>\n",
       "      <td>360.0</td>\n",
       "      <td>1.0</td>\n",
       "      <td>semiurban</td>\n",
       "      <td>n</td>\n",
       "    </tr>\n",
       "  </tbody>\n",
       "</table>\n",
       "</div>"
      ],
      "text/plain": [
       "    loan_id gender married  dependents     education self_employed  \\\n",
       "0  lp001002   male      no         0.0      graduate            no   \n",
       "1  lp001003   male     yes         1.0      graduate            no   \n",
       "2  lp001005   male     yes         0.0      graduate           yes   \n",
       "3  lp001006   male     yes         0.0  not graduate            no   \n",
       "4  lp001008   male      no         0.0      graduate            no   \n",
       "5  lp001011   male     yes         2.0      graduate           yes   \n",
       "6  lp001013   male     yes         0.0  not graduate            no   \n",
       "7  lp001014   male     yes         3.0      graduate            no   \n",
       "8  lp001018   male     yes         2.0      graduate            no   \n",
       "9  lp001020   male     yes         1.0      graduate            no   \n",
       "\n",
       "   applicantincome  coapplicantincome  loanamount  loan_amount_term  \\\n",
       "0             5849                0.0         NaN             360.0   \n",
       "1             4583             1508.0       128.0             360.0   \n",
       "2             3000                0.0        66.0             360.0   \n",
       "3             2583             2358.0       120.0             360.0   \n",
       "4             6000                0.0       141.0             360.0   \n",
       "5             5417             4196.0       267.0             360.0   \n",
       "6             2333             1516.0        95.0             360.0   \n",
       "7             3036             2504.0       158.0             360.0   \n",
       "8             4006             1526.0       168.0             360.0   \n",
       "9            12841            10968.0       349.0             360.0   \n",
       "\n",
       "   credit_history property_area loan_status  \n",
       "0             1.0         urban           y  \n",
       "1             1.0         rural           n  \n",
       "2             1.0         urban           y  \n",
       "3             1.0         urban           y  \n",
       "4             1.0         urban           y  \n",
       "5             1.0         urban           y  \n",
       "6             1.0         urban           y  \n",
       "7             0.0     semiurban           n  \n",
       "8             1.0         urban           y  \n",
       "9             1.0     semiurban           n  "
      ]
     },
     "execution_count": 3,
     "metadata": {},
     "output_type": "execute_result"
    }
   ],
   "source": [
    "df.head(10)"
   ]
  },
  {
   "cell_type": "code",
   "execution_count": 4,
   "id": "5c160093",
   "metadata": {},
   "outputs": [
    {
     "data": {
      "text/plain": [
       "(614, 13)"
      ]
     },
     "execution_count": 4,
     "metadata": {},
     "output_type": "execute_result"
    }
   ],
   "source": [
    "df.shape"
   ]
  },
  {
   "cell_type": "code",
   "execution_count": 5,
   "id": "beceff4b",
   "metadata": {},
   "outputs": [
    {
     "name": "stdout",
     "output_type": "stream",
     "text": [
      "<class 'pandas.core.frame.DataFrame'>\n",
      "RangeIndex: 614 entries, 0 to 613\n",
      "Data columns (total 13 columns):\n",
      " #   Column             Non-Null Count  Dtype  \n",
      "---  ------             --------------  -----  \n",
      " 0   loan_id            614 non-null    object \n",
      " 1   gender             601 non-null    object \n",
      " 2   married            611 non-null    object \n",
      " 3   dependents         599 non-null    float64\n",
      " 4   education          614 non-null    object \n",
      " 5   self_employed      582 non-null    object \n",
      " 6   applicantincome    614 non-null    int64  \n",
      " 7   coapplicantincome  614 non-null    float64\n",
      " 8   loanamount         592 non-null    float64\n",
      " 9   loan_amount_term   600 non-null    float64\n",
      " 10  credit_history     564 non-null    float64\n",
      " 11  property_area      614 non-null    object \n",
      " 12  loan_status        614 non-null    object \n",
      "dtypes: float64(5), int64(1), object(7)\n",
      "memory usage: 62.5+ KB\n"
     ]
    }
   ],
   "source": [
    "df.info()"
   ]
  },
  {
   "cell_type": "markdown",
   "id": "b0d2a93d",
   "metadata": {},
   "source": [
    "## 3. Check for missing values in the dataset, if present? handle them with appropriate methods and drop redundant features."
   ]
  },
  {
   "cell_type": "code",
   "execution_count": 6,
   "id": "756de1db",
   "metadata": {},
   "outputs": [
    {
     "data": {
      "text/plain": [
       "0"
      ]
     },
     "execution_count": 6,
     "metadata": {},
     "output_type": "execute_result"
    }
   ],
   "source": [
    "len(df[df.duplicated()])"
   ]
  },
  {
   "cell_type": "code",
   "execution_count": 7,
   "id": "9e6773e9",
   "metadata": {},
   "outputs": [
    {
     "data": {
      "text/plain": [
       "loan_id               0\n",
       "gender               13\n",
       "married               3\n",
       "dependents           15\n",
       "education             0\n",
       "self_employed        32\n",
       "applicantincome       0\n",
       "coapplicantincome     0\n",
       "loanamount           22\n",
       "loan_amount_term     14\n",
       "credit_history       50\n",
       "property_area         0\n",
       "loan_status           0\n",
       "dtype: int64"
      ]
     },
     "execution_count": 7,
     "metadata": {},
     "output_type": "execute_result"
    }
   ],
   "source": [
    "df.isna().sum()"
   ]
  },
  {
   "cell_type": "code",
   "execution_count": 8,
   "id": "9e47348a",
   "metadata": {},
   "outputs": [
    {
     "name": "stdout",
     "output_type": "stream",
     "text": [
      "['male' 'female' nan]\n"
     ]
    }
   ],
   "source": [
    "print(df['gender'].unique())\n",
    "df['gender'] = df['gender'].fillna(df['gender'].mode()[0])"
   ]
  },
  {
   "cell_type": "code",
   "execution_count": 9,
   "id": "7c594ea7",
   "metadata": {},
   "outputs": [
    {
     "data": {
      "text/plain": [
       "loan_id               0\n",
       "gender                0\n",
       "married               3\n",
       "dependents           15\n",
       "education             0\n",
       "self_employed        32\n",
       "applicantincome       0\n",
       "coapplicantincome     0\n",
       "loanamount           22\n",
       "loan_amount_term     14\n",
       "credit_history       50\n",
       "property_area         0\n",
       "loan_status           0\n",
       "dtype: int64"
      ]
     },
     "execution_count": 9,
     "metadata": {},
     "output_type": "execute_result"
    }
   ],
   "source": [
    "df.isna().sum()"
   ]
  },
  {
   "cell_type": "code",
   "execution_count": 10,
   "id": "8e3dfc02",
   "metadata": {},
   "outputs": [
    {
     "data": {
      "text/plain": [
       "array([ 0.,  1.,  2.,  3., nan])"
      ]
     },
     "execution_count": 10,
     "metadata": {},
     "output_type": "execute_result"
    }
   ],
   "source": [
    "df['dependents'].unique()"
   ]
  },
  {
   "cell_type": "code",
   "execution_count": 11,
   "id": "159b9a84",
   "metadata": {},
   "outputs": [],
   "source": [
    "df['dependents'] = df['dependents'].fillna(df['dependents'].mode()[0]).astype(int)"
   ]
  },
  {
   "cell_type": "code",
   "execution_count": 12,
   "id": "24475911",
   "metadata": {},
   "outputs": [
    {
     "data": {
      "text/plain": [
       "loan_id               0\n",
       "gender                0\n",
       "married               3\n",
       "dependents            0\n",
       "education             0\n",
       "self_employed        32\n",
       "applicantincome       0\n",
       "coapplicantincome     0\n",
       "loanamount           22\n",
       "loan_amount_term     14\n",
       "credit_history       50\n",
       "property_area         0\n",
       "loan_status           0\n",
       "dtype: int64"
      ]
     },
     "execution_count": 12,
     "metadata": {},
     "output_type": "execute_result"
    }
   ],
   "source": [
    "df.isna().sum()"
   ]
  },
  {
   "cell_type": "code",
   "execution_count": 13,
   "id": "5e0c469e",
   "metadata": {},
   "outputs": [
    {
     "data": {
      "text/plain": [
       "array(['no', 'yes', nan], dtype=object)"
      ]
     },
     "execution_count": 13,
     "metadata": {},
     "output_type": "execute_result"
    }
   ],
   "source": [
    "df['married'].unique()"
   ]
  },
  {
   "cell_type": "code",
   "execution_count": 14,
   "id": "e9b18826",
   "metadata": {},
   "outputs": [],
   "source": [
    "df['married']  = df['married'].fillna(df['married'].mode()[0])"
   ]
  },
  {
   "cell_type": "code",
   "execution_count": 15,
   "id": "f64cb9c9",
   "metadata": {},
   "outputs": [
    {
     "data": {
      "text/plain": [
       "loan_id               0\n",
       "gender                0\n",
       "married               0\n",
       "dependents            0\n",
       "education             0\n",
       "self_employed        32\n",
       "applicantincome       0\n",
       "coapplicantincome     0\n",
       "loanamount           22\n",
       "loan_amount_term     14\n",
       "credit_history       50\n",
       "property_area         0\n",
       "loan_status           0\n",
       "dtype: int64"
      ]
     },
     "execution_count": 15,
     "metadata": {},
     "output_type": "execute_result"
    }
   ],
   "source": [
    "df.isna().sum()"
   ]
  },
  {
   "cell_type": "code",
   "execution_count": 16,
   "id": "f0d172cf",
   "metadata": {},
   "outputs": [
    {
     "data": {
      "text/plain": [
       "array(['no', 'yes', nan], dtype=object)"
      ]
     },
     "execution_count": 16,
     "metadata": {},
     "output_type": "execute_result"
    }
   ],
   "source": [
    "df['self_employed'].unique()"
   ]
  },
  {
   "cell_type": "code",
   "execution_count": 17,
   "id": "a21d2c8d",
   "metadata": {},
   "outputs": [],
   "source": [
    "df['self_employed'] = df['self_employed'].fillna(df['self_employed'].mode()[0])"
   ]
  },
  {
   "cell_type": "code",
   "execution_count": 18,
   "id": "827cf9ca",
   "metadata": {},
   "outputs": [
    {
     "data": {
      "text/plain": [
       "loan_id               0\n",
       "gender                0\n",
       "married               0\n",
       "dependents            0\n",
       "education             0\n",
       "self_employed         0\n",
       "applicantincome       0\n",
       "coapplicantincome     0\n",
       "loanamount           22\n",
       "loan_amount_term     14\n",
       "credit_history       50\n",
       "property_area         0\n",
       "loan_status           0\n",
       "dtype: int64"
      ]
     },
     "execution_count": 18,
     "metadata": {},
     "output_type": "execute_result"
    }
   ],
   "source": [
    "df.isna().sum()"
   ]
  },
  {
   "cell_type": "code",
   "execution_count": 19,
   "id": "a3afa1de",
   "metadata": {},
   "outputs": [
    {
     "data": {
      "text/plain": [
       "128.0"
      ]
     },
     "execution_count": 19,
     "metadata": {},
     "output_type": "execute_result"
    }
   ],
   "source": [
    "medianAmt = df['loanamount'].median()\n",
    "medianAmt"
   ]
  },
  {
   "cell_type": "code",
   "execution_count": 20,
   "id": "8f89bdb6",
   "metadata": {},
   "outputs": [],
   "source": [
    "df['loanamount'] = df['loanamount'].fillna(medianAmt)"
   ]
  },
  {
   "cell_type": "code",
   "execution_count": 21,
   "id": "d72184fc",
   "metadata": {},
   "outputs": [
    {
     "data": {
      "text/plain": [
       "loan_id               0\n",
       "gender                0\n",
       "married               0\n",
       "dependents            0\n",
       "education             0\n",
       "self_employed         0\n",
       "applicantincome       0\n",
       "coapplicantincome     0\n",
       "loanamount            0\n",
       "loan_amount_term     14\n",
       "credit_history       50\n",
       "property_area         0\n",
       "loan_status           0\n",
       "dtype: int64"
      ]
     },
     "execution_count": 21,
     "metadata": {},
     "output_type": "execute_result"
    }
   ],
   "source": [
    "df.isna().sum()"
   ]
  },
  {
   "cell_type": "code",
   "execution_count": 22,
   "id": "46d1488b",
   "metadata": {},
   "outputs": [
    {
     "name": "stdout",
     "output_type": "stream",
     "text": [
      "<class 'pandas.core.series.Series'>\n",
      "RangeIndex: 614 entries, 0 to 613\n",
      "Series name: loan_amount_term\n",
      "Non-Null Count  Dtype  \n",
      "--------------  -----  \n",
      "600 non-null    float64\n",
      "dtypes: float64(1)\n",
      "memory usage: 4.9 KB\n"
     ]
    }
   ],
   "source": [
    "df['loan_amount_term'].info()"
   ]
  },
  {
   "cell_type": "code",
   "execution_count": 23,
   "id": "bffdedf3",
   "metadata": {},
   "outputs": [
    {
     "data": {
      "text/plain": [
       "0    360.0\n",
       "Name: loan_amount_term, dtype: float64"
      ]
     },
     "execution_count": 23,
     "metadata": {},
     "output_type": "execute_result"
    }
   ],
   "source": [
    "df['loan_amount_term'].mode()"
   ]
  },
  {
   "cell_type": "code",
   "execution_count": 24,
   "id": "598cc278",
   "metadata": {},
   "outputs": [],
   "source": [
    "df['loan_amount_term'] = df['loan_amount_term'].fillna(df['loan_amount_term'].mode()[0])"
   ]
  },
  {
   "cell_type": "code",
   "execution_count": 25,
   "id": "e71c9e5f",
   "metadata": {},
   "outputs": [
    {
     "data": {
      "text/plain": [
       "loan_id               0\n",
       "gender                0\n",
       "married               0\n",
       "dependents            0\n",
       "education             0\n",
       "self_employed         0\n",
       "applicantincome       0\n",
       "coapplicantincome     0\n",
       "loanamount            0\n",
       "loan_amount_term      0\n",
       "credit_history       50\n",
       "property_area         0\n",
       "loan_status           0\n",
       "dtype: int64"
      ]
     },
     "execution_count": 25,
     "metadata": {},
     "output_type": "execute_result"
    }
   ],
   "source": [
    "df.isna().sum()"
   ]
  },
  {
   "cell_type": "code",
   "execution_count": 26,
   "id": "587c5c4f",
   "metadata": {},
   "outputs": [
    {
     "data": {
      "text/plain": [
       "array([ 1.,  0., nan])"
      ]
     },
     "execution_count": 26,
     "metadata": {},
     "output_type": "execute_result"
    }
   ],
   "source": [
    "df['credit_history'].unique()"
   ]
  },
  {
   "cell_type": "code",
   "execution_count": 27,
   "id": "7d26107f",
   "metadata": {},
   "outputs": [],
   "source": [
    "df['credit_history'] = df['credit_history'].fillna(df['credit_history'].mode()[0]).astype(int)"
   ]
  },
  {
   "cell_type": "code",
   "execution_count": 28,
   "id": "4a5f0f53",
   "metadata": {},
   "outputs": [
    {
     "data": {
      "text/plain": [
       "loan_id              0\n",
       "gender               0\n",
       "married              0\n",
       "dependents           0\n",
       "education            0\n",
       "self_employed        0\n",
       "applicantincome      0\n",
       "coapplicantincome    0\n",
       "loanamount           0\n",
       "loan_amount_term     0\n",
       "credit_history       0\n",
       "property_area        0\n",
       "loan_status          0\n",
       "dtype: int64"
      ]
     },
     "execution_count": 28,
     "metadata": {},
     "output_type": "execute_result"
    }
   ],
   "source": [
    "df.isna().sum()"
   ]
  },
  {
   "cell_type": "code",
   "execution_count": 29,
   "id": "3d5b162c",
   "metadata": {},
   "outputs": [],
   "source": [
    "df.drop(['loan_id'], axis = 1, inplace=True)"
   ]
  },
  {
   "cell_type": "code",
   "execution_count": 30,
   "id": "2052e192",
   "metadata": {},
   "outputs": [
    {
     "name": "stdout",
     "output_type": "stream",
     "text": [
      "<class 'pandas.core.frame.DataFrame'>\n",
      "RangeIndex: 614 entries, 0 to 613\n",
      "Data columns (total 12 columns):\n",
      " #   Column             Non-Null Count  Dtype  \n",
      "---  ------             --------------  -----  \n",
      " 0   gender             614 non-null    object \n",
      " 1   married            614 non-null    object \n",
      " 2   dependents         614 non-null    int32  \n",
      " 3   education          614 non-null    object \n",
      " 4   self_employed      614 non-null    object \n",
      " 5   applicantincome    614 non-null    int64  \n",
      " 6   coapplicantincome  614 non-null    float64\n",
      " 7   loanamount         614 non-null    float64\n",
      " 8   loan_amount_term   614 non-null    float64\n",
      " 9   credit_history     614 non-null    int32  \n",
      " 10  property_area      614 non-null    object \n",
      " 11  loan_status        614 non-null    object \n",
      "dtypes: float64(3), int32(2), int64(1), object(6)\n",
      "memory usage: 52.9+ KB\n"
     ]
    }
   ],
   "source": [
    "df.info()\n"
   ]
  },
  {
   "cell_type": "code",
   "execution_count": 31,
   "id": "85badd6c",
   "metadata": {},
   "outputs": [],
   "source": [
    "df['total_income'] = df['applicantincome'].astype('float') + df['coapplicantincome']\n",
    "df.drop(['applicantincome', 'coapplicantincome'], axis=1, inplace=True)"
   ]
  },
  {
   "cell_type": "code",
   "execution_count": 32,
   "id": "cb75bb75",
   "metadata": {},
   "outputs": [
    {
     "data": {
      "text/html": [
       "<div>\n",
       "<style scoped>\n",
       "    .dataframe tbody tr th:only-of-type {\n",
       "        vertical-align: middle;\n",
       "    }\n",
       "\n",
       "    .dataframe tbody tr th {\n",
       "        vertical-align: top;\n",
       "    }\n",
       "\n",
       "    .dataframe thead th {\n",
       "        text-align: right;\n",
       "    }\n",
       "</style>\n",
       "<table border=\"1\" class=\"dataframe\">\n",
       "  <thead>\n",
       "    <tr style=\"text-align: right;\">\n",
       "      <th></th>\n",
       "      <th>gender</th>\n",
       "      <th>married</th>\n",
       "      <th>dependents</th>\n",
       "      <th>education</th>\n",
       "      <th>self_employed</th>\n",
       "      <th>loanamount</th>\n",
       "      <th>loan_amount_term</th>\n",
       "      <th>credit_history</th>\n",
       "      <th>property_area</th>\n",
       "      <th>loan_status</th>\n",
       "      <th>total_income</th>\n",
       "    </tr>\n",
       "  </thead>\n",
       "  <tbody>\n",
       "    <tr>\n",
       "      <th>0</th>\n",
       "      <td>male</td>\n",
       "      <td>no</td>\n",
       "      <td>0</td>\n",
       "      <td>graduate</td>\n",
       "      <td>no</td>\n",
       "      <td>128.0</td>\n",
       "      <td>360.0</td>\n",
       "      <td>1</td>\n",
       "      <td>urban</td>\n",
       "      <td>y</td>\n",
       "      <td>5849.0</td>\n",
       "    </tr>\n",
       "    <tr>\n",
       "      <th>1</th>\n",
       "      <td>male</td>\n",
       "      <td>yes</td>\n",
       "      <td>1</td>\n",
       "      <td>graduate</td>\n",
       "      <td>no</td>\n",
       "      <td>128.0</td>\n",
       "      <td>360.0</td>\n",
       "      <td>1</td>\n",
       "      <td>rural</td>\n",
       "      <td>n</td>\n",
       "      <td>6091.0</td>\n",
       "    </tr>\n",
       "    <tr>\n",
       "      <th>2</th>\n",
       "      <td>male</td>\n",
       "      <td>yes</td>\n",
       "      <td>0</td>\n",
       "      <td>graduate</td>\n",
       "      <td>yes</td>\n",
       "      <td>66.0</td>\n",
       "      <td>360.0</td>\n",
       "      <td>1</td>\n",
       "      <td>urban</td>\n",
       "      <td>y</td>\n",
       "      <td>3000.0</td>\n",
       "    </tr>\n",
       "    <tr>\n",
       "      <th>3</th>\n",
       "      <td>male</td>\n",
       "      <td>yes</td>\n",
       "      <td>0</td>\n",
       "      <td>not graduate</td>\n",
       "      <td>no</td>\n",
       "      <td>120.0</td>\n",
       "      <td>360.0</td>\n",
       "      <td>1</td>\n",
       "      <td>urban</td>\n",
       "      <td>y</td>\n",
       "      <td>4941.0</td>\n",
       "    </tr>\n",
       "    <tr>\n",
       "      <th>4</th>\n",
       "      <td>male</td>\n",
       "      <td>no</td>\n",
       "      <td>0</td>\n",
       "      <td>graduate</td>\n",
       "      <td>no</td>\n",
       "      <td>141.0</td>\n",
       "      <td>360.0</td>\n",
       "      <td>1</td>\n",
       "      <td>urban</td>\n",
       "      <td>y</td>\n",
       "      <td>6000.0</td>\n",
       "    </tr>\n",
       "    <tr>\n",
       "      <th>...</th>\n",
       "      <td>...</td>\n",
       "      <td>...</td>\n",
       "      <td>...</td>\n",
       "      <td>...</td>\n",
       "      <td>...</td>\n",
       "      <td>...</td>\n",
       "      <td>...</td>\n",
       "      <td>...</td>\n",
       "      <td>...</td>\n",
       "      <td>...</td>\n",
       "      <td>...</td>\n",
       "    </tr>\n",
       "    <tr>\n",
       "      <th>609</th>\n",
       "      <td>female</td>\n",
       "      <td>no</td>\n",
       "      <td>0</td>\n",
       "      <td>graduate</td>\n",
       "      <td>no</td>\n",
       "      <td>71.0</td>\n",
       "      <td>360.0</td>\n",
       "      <td>1</td>\n",
       "      <td>rural</td>\n",
       "      <td>y</td>\n",
       "      <td>2900.0</td>\n",
       "    </tr>\n",
       "    <tr>\n",
       "      <th>610</th>\n",
       "      <td>male</td>\n",
       "      <td>yes</td>\n",
       "      <td>3</td>\n",
       "      <td>graduate</td>\n",
       "      <td>no</td>\n",
       "      <td>40.0</td>\n",
       "      <td>180.0</td>\n",
       "      <td>1</td>\n",
       "      <td>rural</td>\n",
       "      <td>y</td>\n",
       "      <td>4106.0</td>\n",
       "    </tr>\n",
       "    <tr>\n",
       "      <th>611</th>\n",
       "      <td>male</td>\n",
       "      <td>yes</td>\n",
       "      <td>1</td>\n",
       "      <td>graduate</td>\n",
       "      <td>no</td>\n",
       "      <td>253.0</td>\n",
       "      <td>360.0</td>\n",
       "      <td>1</td>\n",
       "      <td>urban</td>\n",
       "      <td>y</td>\n",
       "      <td>8312.0</td>\n",
       "    </tr>\n",
       "    <tr>\n",
       "      <th>612</th>\n",
       "      <td>male</td>\n",
       "      <td>yes</td>\n",
       "      <td>2</td>\n",
       "      <td>graduate</td>\n",
       "      <td>no</td>\n",
       "      <td>187.0</td>\n",
       "      <td>360.0</td>\n",
       "      <td>1</td>\n",
       "      <td>urban</td>\n",
       "      <td>y</td>\n",
       "      <td>7583.0</td>\n",
       "    </tr>\n",
       "    <tr>\n",
       "      <th>613</th>\n",
       "      <td>female</td>\n",
       "      <td>no</td>\n",
       "      <td>0</td>\n",
       "      <td>graduate</td>\n",
       "      <td>yes</td>\n",
       "      <td>133.0</td>\n",
       "      <td>360.0</td>\n",
       "      <td>0</td>\n",
       "      <td>semiurban</td>\n",
       "      <td>n</td>\n",
       "      <td>4583.0</td>\n",
       "    </tr>\n",
       "  </tbody>\n",
       "</table>\n",
       "<p>614 rows × 11 columns</p>\n",
       "</div>"
      ],
      "text/plain": [
       "     gender married  dependents     education self_employed  loanamount  \\\n",
       "0      male      no           0      graduate            no       128.0   \n",
       "1      male     yes           1      graduate            no       128.0   \n",
       "2      male     yes           0      graduate           yes        66.0   \n",
       "3      male     yes           0  not graduate            no       120.0   \n",
       "4      male      no           0      graduate            no       141.0   \n",
       "..      ...     ...         ...           ...           ...         ...   \n",
       "609  female      no           0      graduate            no        71.0   \n",
       "610    male     yes           3      graduate            no        40.0   \n",
       "611    male     yes           1      graduate            no       253.0   \n",
       "612    male     yes           2      graduate            no       187.0   \n",
       "613  female      no           0      graduate           yes       133.0   \n",
       "\n",
       "     loan_amount_term  credit_history property_area loan_status  total_income  \n",
       "0               360.0               1         urban           y        5849.0  \n",
       "1               360.0               1         rural           n        6091.0  \n",
       "2               360.0               1         urban           y        3000.0  \n",
       "3               360.0               1         urban           y        4941.0  \n",
       "4               360.0               1         urban           y        6000.0  \n",
       "..                ...             ...           ...         ...           ...  \n",
       "609             360.0               1         rural           y        2900.0  \n",
       "610             180.0               1         rural           y        4106.0  \n",
       "611             360.0               1         urban           y        8312.0  \n",
       "612             360.0               1         urban           y        7583.0  \n",
       "613             360.0               0     semiurban           n        4583.0  \n",
       "\n",
       "[614 rows x 11 columns]"
      ]
     },
     "execution_count": 32,
     "metadata": {},
     "output_type": "execute_result"
    }
   ],
   "source": [
    "df"
   ]
  },
  {
   "cell_type": "code",
   "execution_count": 33,
   "id": "c15d9462",
   "metadata": {},
   "outputs": [
    {
     "name": "stdout",
     "output_type": "stream",
     "text": [
      "['gender', 'married', 'education', 'self_employed', 'property_area', 'loan_status']\n",
      "['dependents', 'loanamount', 'loan_amount_term', 'credit_history', 'total_income']\n"
     ]
    }
   ],
   "source": [
    "cat = df.select_dtypes(include='O').columns.to_list()\n",
    "df_categorical = df[cat]\n",
    "num = df.select_dtypes(exclude='O').columns.to_list()\n",
    "df_numerical = df[num]\n",
    "print(cat)\n",
    "print(num)"
   ]
  },
  {
   "cell_type": "markdown",
   "id": "c03889fc",
   "metadata": {},
   "source": [
    "## 4. Visualize the distribution of the target column 'loan_status' with respect to various categorical features and write your observations."
   ]
  },
  {
   "cell_type": "code",
   "execution_count": 34,
   "id": "b834f002",
   "metadata": {},
   "outputs": [
    {
     "data": {
      "text/plain": [
       "<seaborn.axisgrid.FacetGrid at 0x20cc0a0f400>"
      ]
     },
     "execution_count": 34,
     "metadata": {},
     "output_type": "execute_result"
    },
    {
     "data": {
      "image/png": "[encoded data removed]",
      "text/plain": [
       "<Figure size 590.486x500 with 1 Axes>"
      ]
     },
     "metadata": {},
     "output_type": "display_data"
    }
   ],
   "source": [
    "# sns.pairplot(df, hue='loan_status', kind=\"scatter\", palette=\"husl\")\n",
    "# plt.show()\n",
    "\n",
    "sns.displot(df, x=\"gender\", hue=\"loan_status\", multiple=\"stack\")"
   ]
  },
  {
   "cell_type": "markdown",
   "id": "54b75ece",
   "metadata": {},
   "source": [
    "- Number of males with loan approval is higher than the female."
   ]
  },
  {
   "cell_type": "code",
   "execution_count": 35,
   "id": "75f3e334",
   "metadata": {},
   "outputs": [
    {
     "data": {
      "text/plain": [
       "<seaborn.axisgrid.FacetGrid at 0x20cc0b3f340>"
      ]
     },
     "execution_count": 35,
     "metadata": {},
     "output_type": "execute_result"
    },
    {
     "data": {
      "image/png": "[encoded data removed]",
      "text/plain": [
       "<Figure size 590.486x500 with 1 Axes>"
      ]
     },
     "metadata": {},
     "output_type": "display_data"
    }
   ],
   "source": [
    "sns.displot(df, x=\"married\", hue=\"loan_status\", multiple=\"stack\")"
   ]
  },
  {
   "cell_type": "markdown",
   "id": "cc42d467",
   "metadata": {},
   "source": [
    "- The count of loan approval is higher in the married person than that of non married."
   ]
  },
  {
   "cell_type": "code",
   "execution_count": 36,
   "id": "caffae2a",
   "metadata": {},
   "outputs": [
    {
     "data": {
      "text/plain": [
       "<seaborn.axisgrid.FacetGrid at 0x20cc1656d10>"
      ]
     },
     "execution_count": 36,
     "metadata": {},
     "output_type": "execute_result"
    },
    {
     "data": {
      "image/png": "[encoded data removed]",
      "text/plain": [
       "<Figure size 590.486x500 with 1 Axes>"
      ]
     },
     "metadata": {},
     "output_type": "display_data"
    }
   ],
   "source": [
    "sns.displot(df, x=\"education\", hue=\"loan_status\", multiple=\"stack\")"
   ]
  },
  {
   "cell_type": "markdown",
   "id": "54abcd77",
   "metadata": {},
   "source": [
    "- The education wise distribution indicates, count of loan approval is higher in graduates than non-graduates."
   ]
  },
  {
   "cell_type": "code",
   "execution_count": 37,
   "id": "be73fa76",
   "metadata": {
    "scrolled": true
   },
   "outputs": [
    {
     "data": {
      "text/plain": [
       "<seaborn.axisgrid.FacetGrid at 0x20cc16dee30>"
      ]
     },
     "execution_count": 37,
     "metadata": {},
     "output_type": "execute_result"
    },
    {
     "data": {
      "image/png": "[encoded data removed]",
      "text/plain": [
       "<Figure size 590.486x500 with 1 Axes>"
      ]
     },
     "metadata": {},
     "output_type": "display_data"
    }
   ],
   "source": [
    "sns.displot(df, x=\"self_employed\", hue=\"loan_status\")"
   ]
  },
  {
   "cell_type": "markdown",
   "id": "82aa622d",
   "metadata": {},
   "source": [
    "- the loan approval rate in self employed individual is lower than that of the non-self_employed individuals."
   ]
  },
  {
   "cell_type": "code",
   "execution_count": 38,
   "id": "4ceebd19",
   "metadata": {},
   "outputs": [
    {
     "data": {
      "text/plain": [
       "<seaborn.axisgrid.FacetGrid at 0x20cc12f6b90>"
      ]
     },
     "execution_count": 38,
     "metadata": {},
     "output_type": "execute_result"
    },
    {
     "data": {
      "image/png": "[encoded data removed]",
      "text/plain": [
       "<Figure size 590.486x500 with 1 Axes>"
      ]
     },
     "metadata": {},
     "output_type": "display_data"
    }
   ],
   "source": [
    "sns.displot(df, x=\"property_area\", hue=\"loan_status\", multiple=\"stack\")"
   ]
  },
  {
   "cell_type": "markdown",
   "id": "24868a64",
   "metadata": {},
   "source": [
    "- The count of loans getting approved in semi-urban areas is higher as compared to that in rural or urban areas."
   ]
  },
  {
   "cell_type": "markdown",
   "id": "b23e9640",
   "metadata": {},
   "source": [
    "## 5. Encode the categorical data."
   ]
  },
  {
   "cell_type": "code",
   "execution_count": 39,
   "id": "ea027e33",
   "metadata": {},
   "outputs": [
    {
     "name": "stdout",
     "output_type": "stream",
     "text": [
      "['gender', 'married', 'education', 'self_employed', 'property_area', 'loan_status']\n"
     ]
    }
   ],
   "source": [
    "print(cat)"
   ]
  },
  {
   "cell_type": "code",
   "execution_count": 40,
   "id": "8ba6738c",
   "metadata": {},
   "outputs": [
    {
     "data": {
      "text/html": [
       "<div>\n",
       "<style scoped>\n",
       "    .dataframe tbody tr th:only-of-type {\n",
       "        vertical-align: middle;\n",
       "    }\n",
       "\n",
       "    .dataframe tbody tr th {\n",
       "        vertical-align: top;\n",
       "    }\n",
       "\n",
       "    .dataframe thead th {\n",
       "        text-align: right;\n",
       "    }\n",
       "</style>\n",
       "<table border=\"1\" class=\"dataframe\">\n",
       "  <thead>\n",
       "    <tr style=\"text-align: right;\">\n",
       "      <th></th>\n",
       "      <th>gender</th>\n",
       "      <th>married</th>\n",
       "      <th>education</th>\n",
       "      <th>self_employed</th>\n",
       "      <th>property_area</th>\n",
       "      <th>loan_status</th>\n",
       "    </tr>\n",
       "  </thead>\n",
       "  <tbody>\n",
       "    <tr>\n",
       "      <th>0</th>\n",
       "      <td>male</td>\n",
       "      <td>no</td>\n",
       "      <td>graduate</td>\n",
       "      <td>no</td>\n",
       "      <td>urban</td>\n",
       "      <td>y</td>\n",
       "    </tr>\n",
       "    <tr>\n",
       "      <th>1</th>\n",
       "      <td>male</td>\n",
       "      <td>yes</td>\n",
       "      <td>graduate</td>\n",
       "      <td>no</td>\n",
       "      <td>rural</td>\n",
       "      <td>n</td>\n",
       "    </tr>\n",
       "    <tr>\n",
       "      <th>2</th>\n",
       "      <td>male</td>\n",
       "      <td>yes</td>\n",
       "      <td>graduate</td>\n",
       "      <td>yes</td>\n",
       "      <td>urban</td>\n",
       "      <td>y</td>\n",
       "    </tr>\n",
       "    <tr>\n",
       "      <th>3</th>\n",
       "      <td>male</td>\n",
       "      <td>yes</td>\n",
       "      <td>not graduate</td>\n",
       "      <td>no</td>\n",
       "      <td>urban</td>\n",
       "      <td>y</td>\n",
       "    </tr>\n",
       "    <tr>\n",
       "      <th>4</th>\n",
       "      <td>male</td>\n",
       "      <td>no</td>\n",
       "      <td>graduate</td>\n",
       "      <td>no</td>\n",
       "      <td>urban</td>\n",
       "      <td>y</td>\n",
       "    </tr>\n",
       "    <tr>\n",
       "      <th>...</th>\n",
       "      <td>...</td>\n",
       "      <td>...</td>\n",
       "      <td>...</td>\n",
       "      <td>...</td>\n",
       "      <td>...</td>\n",
       "      <td>...</td>\n",
       "    </tr>\n",
       "    <tr>\n",
       "      <th>609</th>\n",
       "      <td>female</td>\n",
       "      <td>no</td>\n",
       "      <td>graduate</td>\n",
       "      <td>no</td>\n",
       "      <td>rural</td>\n",
       "      <td>y</td>\n",
       "    </tr>\n",
       "    <tr>\n",
       "      <th>610</th>\n",
       "      <td>male</td>\n",
       "      <td>yes</td>\n",
       "      <td>graduate</td>\n",
       "      <td>no</td>\n",
       "      <td>rural</td>\n",
       "      <td>y</td>\n",
       "    </tr>\n",
       "    <tr>\n",
       "      <th>611</th>\n",
       "      <td>male</td>\n",
       "      <td>yes</td>\n",
       "      <td>graduate</td>\n",
       "      <td>no</td>\n",
       "      <td>urban</td>\n",
       "      <td>y</td>\n",
       "    </tr>\n",
       "    <tr>\n",
       "      <th>612</th>\n",
       "      <td>male</td>\n",
       "      <td>yes</td>\n",
       "      <td>graduate</td>\n",
       "      <td>no</td>\n",
       "      <td>urban</td>\n",
       "      <td>y</td>\n",
       "    </tr>\n",
       "    <tr>\n",
       "      <th>613</th>\n",
       "      <td>female</td>\n",
       "      <td>no</td>\n",
       "      <td>graduate</td>\n",
       "      <td>yes</td>\n",
       "      <td>semiurban</td>\n",
       "      <td>n</td>\n",
       "    </tr>\n",
       "  </tbody>\n",
       "</table>\n",
       "<p>614 rows × 6 columns</p>\n",
       "</div>"
      ],
      "text/plain": [
       "     gender married     education self_employed property_area loan_status\n",
       "0      male      no      graduate            no         urban           y\n",
       "1      male     yes      graduate            no         rural           n\n",
       "2      male     yes      graduate           yes         urban           y\n",
       "3      male     yes  not graduate            no         urban           y\n",
       "4      male      no      graduate            no         urban           y\n",
       "..      ...     ...           ...           ...           ...         ...\n",
       "609  female      no      graduate            no         rural           y\n",
       "610    male     yes      graduate            no         rural           y\n",
       "611    male     yes      graduate            no         urban           y\n",
       "612    male     yes      graduate            no         urban           y\n",
       "613  female      no      graduate           yes     semiurban           n\n",
       "\n",
       "[614 rows x 6 columns]"
      ]
     },
     "execution_count": 40,
     "metadata": {},
     "output_type": "execute_result"
    }
   ],
   "source": [
    "df[cat]"
   ]
  },
  {
   "cell_type": "code",
   "execution_count": 41,
   "id": "c6c4d2b2",
   "metadata": {},
   "outputs": [],
   "source": [
    "labelEncode = LabelEncoder()"
   ]
  },
  {
   "cell_type": "code",
   "execution_count": 42,
   "id": "11254779",
   "metadata": {},
   "outputs": [
    {
     "name": "stdout",
     "output_type": "stream",
     "text": [
      "['male' 'female']\n"
     ]
    },
    {
     "data": {
      "text/plain": [
       "array([0, 1])"
      ]
     },
     "execution_count": 42,
     "metadata": {},
     "output_type": "execute_result"
    }
   ],
   "source": [
    "print(df['gender'].unique())\n",
    "labelEncode.fit(df['gender'])\n",
    "labelEncode.transform(labelEncode.classes_)"
   ]
  },
  {
   "cell_type": "code",
   "execution_count": 43,
   "id": "156efc2e",
   "metadata": {},
   "outputs": [
    {
     "name": "stdout",
     "output_type": "stream",
     "text": [
      "['no' 'yes']\n"
     ]
    },
    {
     "data": {
      "text/plain": [
       "array([0, 1])"
      ]
     },
     "execution_count": 43,
     "metadata": {},
     "output_type": "execute_result"
    }
   ],
   "source": [
    "print(df['married'].unique())\n",
    "labelEncode.fit(df['married'])\n",
    "labelEncode.transform(labelEncode.classes_)"
   ]
  },
  {
   "cell_type": "code",
   "execution_count": 44,
   "id": "5d4153aa",
   "metadata": {},
   "outputs": [
    {
     "name": "stdout",
     "output_type": "stream",
     "text": [
      "['graduate' 'not graduate']\n"
     ]
    },
    {
     "data": {
      "text/plain": [
       "array([0, 1])"
      ]
     },
     "execution_count": 44,
     "metadata": {},
     "output_type": "execute_result"
    }
   ],
   "source": [
    "print(df['education'].unique())\n",
    "labelEncode.fit(df['education'])\n",
    "labelEncode.transform(labelEncode.classes_)"
   ]
  },
  {
   "cell_type": "code",
   "execution_count": 45,
   "id": "a8d97ddb",
   "metadata": {},
   "outputs": [
    {
     "name": "stdout",
     "output_type": "stream",
     "text": [
      "['no' 'yes']\n"
     ]
    },
    {
     "data": {
      "text/plain": [
       "array([0, 1])"
      ]
     },
     "execution_count": 45,
     "metadata": {},
     "output_type": "execute_result"
    }
   ],
   "source": [
    "print(df['self_employed'].unique())\n",
    "labelEncode.fit(df['self_employed'])\n",
    "labelEncode.transform(labelEncode.classes_)"
   ]
  },
  {
   "cell_type": "code",
   "execution_count": 46,
   "id": "b66ad73d",
   "metadata": {},
   "outputs": [
    {
     "name": "stdout",
     "output_type": "stream",
     "text": [
      "['urban' 'rural' 'semiurban']\n"
     ]
    },
    {
     "data": {
      "text/plain": [
       "array([0, 1, 2])"
      ]
     },
     "execution_count": 46,
     "metadata": {},
     "output_type": "execute_result"
    }
   ],
   "source": [
    "print(df['property_area'].unique())\n",
    "labelEncode.fit(df['property_area'])\n",
    "labelEncode.transform(labelEncode.classes_)"
   ]
  },
  {
   "cell_type": "code",
   "execution_count": 47,
   "id": "c4c8b811",
   "metadata": {},
   "outputs": [
    {
     "name": "stdout",
     "output_type": "stream",
     "text": [
      "['y' 'n']\n"
     ]
    },
    {
     "data": {
      "text/plain": [
       "array([0, 1])"
      ]
     },
     "execution_count": 47,
     "metadata": {},
     "output_type": "execute_result"
    }
   ],
   "source": [
    "print(df['loan_status'].unique())\n",
    "labelEncode.fit(df['loan_status'])\n",
    "labelEncode.transform(labelEncode.classes_)"
   ]
  },
  {
   "cell_type": "code",
   "execution_count": 48,
   "id": "1e8d208c",
   "metadata": {},
   "outputs": [],
   "source": [
    "for i in cat:\n",
    "    df[i] = df[[i]].apply(labelEncode.fit_transform)"
   ]
  },
  {
   "cell_type": "code",
   "execution_count": 49,
   "id": "77a816e0",
   "metadata": {},
   "outputs": [],
   "source": [
    "# df_standardize = df[['loanamount', 'loan_amount_term', 'total_income']]\n",
    "\n",
    "# # df1 = df.copy()\n",
    "# scaled_features = StandardScaler().fit_transform(df_standardize.values)\n",
    "# scaled_features_df = pd.DataFrame(scaled_features, index=df_standardize.index, columns=df_standardize.columns)\n",
    "# scaled_features_df"
   ]
  },
  {
   "cell_type": "code",
   "execution_count": 50,
   "id": "28cec6ef",
   "metadata": {},
   "outputs": [],
   "source": [
    "# newdf = df.copy()\n",
    "\n",
    "# newdf.drop(['loanamount', 'loan_amount_term', 'total_income'], axis=1, inplace=True)\n",
    "# newdf = newdf.join(scaled_features_df)\n",
    "# newdf"
   ]
  },
  {
   "cell_type": "code",
   "execution_count": 51,
   "id": "3b86b256",
   "metadata": {},
   "outputs": [],
   "source": [
    "# newdf = df.copy()\n",
    "# scaled_features = StandardScaler().fit_transform(newdf.values)\n",
    "# scaled_features_df = pd.DataFrame(scaled_features, index=newdf.index, columns=newdf.columns)\n",
    "# scaled_features_df"
   ]
  },
  {
   "cell_type": "code",
   "execution_count": 52,
   "id": "453d2e9f",
   "metadata": {},
   "outputs": [],
   "source": [
    "# scaled_features_df.info()"
   ]
  },
  {
   "cell_type": "code",
   "execution_count": 53,
   "id": "bb28fae3",
   "metadata": {},
   "outputs": [],
   "source": [
    "# X = scaled_features_df.drop(['loan_status'], axis=1)\n",
    "# y = scaled_features_df['loan_status']"
   ]
  },
  {
   "cell_type": "code",
   "execution_count": 55,
   "id": "a618eb78",
   "metadata": {},
   "outputs": [],
   "source": [
    "# X = df_new.drop(['loan_status'], axis=1)\n",
    "# y = df_new['loan_status']\n",
    "\n",
    "# X = X.values\n",
    "# y = y.values"
   ]
  },
  {
   "cell_type": "markdown",
   "id": "7d217e1f",
   "metadata": {},
   "source": [
    "## 6. Separate the target and independent features and split the data into train and test."
   ]
  },
  {
   "cell_type": "code",
   "execution_count": 56,
   "id": "34058a5c",
   "metadata": {},
   "outputs": [
    {
     "name": "stdout",
     "output_type": "stream",
     "text": [
      "<class 'pandas.core.frame.DataFrame'>\n",
      "RangeIndex: 614 entries, 0 to 613\n",
      "Data columns (total 11 columns):\n",
      " #   Column            Non-Null Count  Dtype  \n",
      "---  ------            --------------  -----  \n",
      " 0   gender            614 non-null    int32  \n",
      " 1   married           614 non-null    int32  \n",
      " 2   dependents        614 non-null    int32  \n",
      " 3   education         614 non-null    int32  \n",
      " 4   self_employed     614 non-null    int32  \n",
      " 5   loanamount        614 non-null    float64\n",
      " 6   loan_amount_term  614 non-null    float64\n",
      " 7   credit_history    614 non-null    int32  \n",
      " 8   property_area     614 non-null    int32  \n",
      " 9   loan_status       614 non-null    int32  \n",
      " 10  total_income      614 non-null    float64\n",
      "dtypes: float64(3), int32(8)\n",
      "memory usage: 33.7 KB\n"
     ]
    }
   ],
   "source": [
    "df.info()"
   ]
  },
  {
   "cell_type": "code",
   "execution_count": 57,
   "id": "22c392be",
   "metadata": {},
   "outputs": [],
   "source": [
    "X = df.drop(['loan_status'], axis=1)\n",
    "y = df['loan_status']\n",
    "\n",
    "# # X = newdf.drop(['loan_status'], axis=1)\n",
    "# # y = newdf['loan_status']\n",
    "\n",
    "X = X.values\n",
    "y = y.values"
   ]
  },
  {
   "cell_type": "code",
   "execution_count": 58,
   "id": "3df54267",
   "metadata": {},
   "outputs": [],
   "source": [
    "X_train,X_test,y_train,y_test = train_test_split(X,y,test_size=0.3,random_state=42)"
   ]
  },
  {
   "cell_type": "code",
   "execution_count": 59,
   "id": "6787baca",
   "metadata": {},
   "outputs": [
    {
     "name": "stdout",
     "output_type": "stream",
     "text": [
      "(429, 10) (185, 10)\n",
      "(429,) (185,)\n"
     ]
    }
   ],
   "source": [
    "print(X_train.shape,X_test.shape)\n",
    "print(y_train.shape,y_test.shape)"
   ]
  },
  {
   "cell_type": "markdown",
   "id": "4e777f04",
   "metadata": {},
   "source": [
    "## 7. Build any classification model to predict the loan status of the customer and save your model using pickle."
   ]
  },
  {
   "cell_type": "code",
   "execution_count": 60,
   "id": "cb8ffed6",
   "metadata": {},
   "outputs": [
    {
     "data": {
      "text/plain": [
       "array([1, 1, 1, 1, 1, 1, 1, 1, 1, 1, 0, 1, 1, 1, 1, 1, 1, 1, 1, 1, 1, 1,\n",
       "       1, 1, 1, 1, 1, 1, 1, 1, 1, 1, 1, 1, 1, 0, 1, 1, 1, 1, 1, 1, 1, 1,\n",
       "       1, 1, 1, 0, 0, 0, 1, 1, 0, 1, 1, 1, 1, 1, 0, 1, 0, 1, 0, 1, 1, 1,\n",
       "       1, 1, 1, 1, 0, 1, 1, 1, 0, 1, 1, 0, 0, 1, 1, 1, 1, 1, 1, 1, 1, 0,\n",
       "       1, 1, 1, 0, 0, 1, 1, 1, 1, 1, 1, 1, 1, 1, 1, 1, 1, 0, 1, 0, 1, 1,\n",
       "       1, 0, 1, 1, 1, 1, 1, 1, 1, 1, 1, 1, 1, 1, 1, 1, 1, 0, 1, 1, 0, 1,\n",
       "       1, 0, 1, 1, 1, 1, 1, 1, 1, 1, 1, 1, 1, 1, 1, 1, 1, 1, 1, 1, 0, 1,\n",
       "       1, 1, 1, 1, 0, 1, 1, 1, 1, 1, 1, 1, 1, 1, 0, 1, 0, 0, 1, 0, 1, 1,\n",
       "       1, 1, 1, 1, 1, 1, 1, 1, 0])"
      ]
     },
     "execution_count": 60,
     "metadata": {},
     "output_type": "execute_result"
    }
   ],
   "source": [
    "from sklearn.linear_model import LogisticRegression\n",
    "from sklearn.metrics import accuracy_score\n",
    "model = LogisticRegression()\n",
    "model.fit(X_train, y_train)\n",
    "y_predict = model.predict(X_test)\n",
    "y_predict"
   ]
  },
  {
   "cell_type": "code",
   "execution_count": 61,
   "id": "9a3cb053",
   "metadata": {},
   "outputs": [
    {
     "data": {
      "text/plain": [
       "0.7837837837837838"
      ]
     },
     "execution_count": 61,
     "metadata": {},
     "output_type": "execute_result"
    }
   ],
   "source": [
    "accuracy_score(y_test,y_predict)"
   ]
  },
  {
   "cell_type": "code",
   "execution_count": 62,
   "id": "5b15b907",
   "metadata": {},
   "outputs": [
    {
     "data": {
      "text/html": [
       "<div>\n",
       "<style scoped>\n",
       "    .dataframe tbody tr th:only-of-type {\n",
       "        vertical-align: middle;\n",
       "    }\n",
       "\n",
       "    .dataframe tbody tr th {\n",
       "        vertical-align: top;\n",
       "    }\n",
       "\n",
       "    .dataframe thead th {\n",
       "        text-align: right;\n",
       "    }\n",
       "</style>\n",
       "<table border=\"1\" class=\"dataframe\">\n",
       "  <thead>\n",
       "    <tr style=\"text-align: right;\">\n",
       "      <th></th>\n",
       "      <th>gender</th>\n",
       "      <th>married</th>\n",
       "      <th>dependents</th>\n",
       "      <th>education</th>\n",
       "      <th>self_employed</th>\n",
       "      <th>loanamount</th>\n",
       "      <th>loan_amount_term</th>\n",
       "      <th>credit_history</th>\n",
       "      <th>property_area</th>\n",
       "      <th>loan_status</th>\n",
       "      <th>total_income</th>\n",
       "    </tr>\n",
       "  </thead>\n",
       "  <tbody>\n",
       "    <tr>\n",
       "      <th>0</th>\n",
       "      <td>1</td>\n",
       "      <td>0</td>\n",
       "      <td>0</td>\n",
       "      <td>0</td>\n",
       "      <td>0</td>\n",
       "      <td>128.0</td>\n",
       "      <td>360.0</td>\n",
       "      <td>1</td>\n",
       "      <td>2</td>\n",
       "      <td>1</td>\n",
       "      <td>5849.0</td>\n",
       "    </tr>\n",
       "    <tr>\n",
       "      <th>1</th>\n",
       "      <td>1</td>\n",
       "      <td>1</td>\n",
       "      <td>1</td>\n",
       "      <td>0</td>\n",
       "      <td>0</td>\n",
       "      <td>128.0</td>\n",
       "      <td>360.0</td>\n",
       "      <td>1</td>\n",
       "      <td>0</td>\n",
       "      <td>0</td>\n",
       "      <td>6091.0</td>\n",
       "    </tr>\n",
       "    <tr>\n",
       "      <th>2</th>\n",
       "      <td>1</td>\n",
       "      <td>1</td>\n",
       "      <td>0</td>\n",
       "      <td>0</td>\n",
       "      <td>1</td>\n",
       "      <td>66.0</td>\n",
       "      <td>360.0</td>\n",
       "      <td>1</td>\n",
       "      <td>2</td>\n",
       "      <td>1</td>\n",
       "      <td>3000.0</td>\n",
       "    </tr>\n",
       "    <tr>\n",
       "      <th>3</th>\n",
       "      <td>1</td>\n",
       "      <td>1</td>\n",
       "      <td>0</td>\n",
       "      <td>1</td>\n",
       "      <td>0</td>\n",
       "      <td>120.0</td>\n",
       "      <td>360.0</td>\n",
       "      <td>1</td>\n",
       "      <td>2</td>\n",
       "      <td>1</td>\n",
       "      <td>4941.0</td>\n",
       "    </tr>\n",
       "    <tr>\n",
       "      <th>4</th>\n",
       "      <td>1</td>\n",
       "      <td>0</td>\n",
       "      <td>0</td>\n",
       "      <td>0</td>\n",
       "      <td>0</td>\n",
       "      <td>141.0</td>\n",
       "      <td>360.0</td>\n",
       "      <td>1</td>\n",
       "      <td>2</td>\n",
       "      <td>1</td>\n",
       "      <td>6000.0</td>\n",
       "    </tr>\n",
       "    <tr>\n",
       "      <th>...</th>\n",
       "      <td>...</td>\n",
       "      <td>...</td>\n",
       "      <td>...</td>\n",
       "      <td>...</td>\n",
       "      <td>...</td>\n",
       "      <td>...</td>\n",
       "      <td>...</td>\n",
       "      <td>...</td>\n",
       "      <td>...</td>\n",
       "      <td>...</td>\n",
       "      <td>...</td>\n",
       "    </tr>\n",
       "    <tr>\n",
       "      <th>609</th>\n",
       "      <td>0</td>\n",
       "      <td>0</td>\n",
       "      <td>0</td>\n",
       "      <td>0</td>\n",
       "      <td>0</td>\n",
       "      <td>71.0</td>\n",
       "      <td>360.0</td>\n",
       "      <td>1</td>\n",
       "      <td>0</td>\n",
       "      <td>1</td>\n",
       "      <td>2900.0</td>\n",
       "    </tr>\n",
       "    <tr>\n",
       "      <th>610</th>\n",
       "      <td>1</td>\n",
       "      <td>1</td>\n",
       "      <td>3</td>\n",
       "      <td>0</td>\n",
       "      <td>0</td>\n",
       "      <td>40.0</td>\n",
       "      <td>180.0</td>\n",
       "      <td>1</td>\n",
       "      <td>0</td>\n",
       "      <td>1</td>\n",
       "      <td>4106.0</td>\n",
       "    </tr>\n",
       "    <tr>\n",
       "      <th>611</th>\n",
       "      <td>1</td>\n",
       "      <td>1</td>\n",
       "      <td>1</td>\n",
       "      <td>0</td>\n",
       "      <td>0</td>\n",
       "      <td>253.0</td>\n",
       "      <td>360.0</td>\n",
       "      <td>1</td>\n",
       "      <td>2</td>\n",
       "      <td>1</td>\n",
       "      <td>8312.0</td>\n",
       "    </tr>\n",
       "    <tr>\n",
       "      <th>612</th>\n",
       "      <td>1</td>\n",
       "      <td>1</td>\n",
       "      <td>2</td>\n",
       "      <td>0</td>\n",
       "      <td>0</td>\n",
       "      <td>187.0</td>\n",
       "      <td>360.0</td>\n",
       "      <td>1</td>\n",
       "      <td>2</td>\n",
       "      <td>1</td>\n",
       "      <td>7583.0</td>\n",
       "    </tr>\n",
       "    <tr>\n",
       "      <th>613</th>\n",
       "      <td>0</td>\n",
       "      <td>0</td>\n",
       "      <td>0</td>\n",
       "      <td>0</td>\n",
       "      <td>1</td>\n",
       "      <td>133.0</td>\n",
       "      <td>360.0</td>\n",
       "      <td>0</td>\n",
       "      <td>1</td>\n",
       "      <td>0</td>\n",
       "      <td>4583.0</td>\n",
       "    </tr>\n",
       "  </tbody>\n",
       "</table>\n",
       "<p>614 rows × 11 columns</p>\n",
       "</div>"
      ],
      "text/plain": [
       "     gender  married  dependents  education  self_employed  loanamount  \\\n",
       "0         1        0           0          0              0       128.0   \n",
       "1         1        1           1          0              0       128.0   \n",
       "2         1        1           0          0              1        66.0   \n",
       "3         1        1           0          1              0       120.0   \n",
       "4         1        0           0          0              0       141.0   \n",
       "..      ...      ...         ...        ...            ...         ...   \n",
       "609       0        0           0          0              0        71.0   \n",
       "610       1        1           3          0              0        40.0   \n",
       "611       1        1           1          0              0       253.0   \n",
       "612       1        1           2          0              0       187.0   \n",
       "613       0        0           0          0              1       133.0   \n",
       "\n",
       "     loan_amount_term  credit_history  property_area  loan_status  \\\n",
       "0               360.0               1              2            1   \n",
       "1               360.0               1              0            0   \n",
       "2               360.0               1              2            1   \n",
       "3               360.0               1              2            1   \n",
       "4               360.0               1              2            1   \n",
       "..                ...             ...            ...          ...   \n",
       "609             360.0               1              0            1   \n",
       "610             180.0               1              0            1   \n",
       "611             360.0               1              2            1   \n",
       "612             360.0               1              2            1   \n",
       "613             360.0               0              1            0   \n",
       "\n",
       "     total_income  \n",
       "0          5849.0  \n",
       "1          6091.0  \n",
       "2          3000.0  \n",
       "3          4941.0  \n",
       "4          6000.0  \n",
       "..            ...  \n",
       "609        2900.0  \n",
       "610        4106.0  \n",
       "611        8312.0  \n",
       "612        7583.0  \n",
       "613        4583.0  \n",
       "\n",
       "[614 rows x 11 columns]"
      ]
     },
     "execution_count": 62,
     "metadata": {},
     "output_type": "execute_result"
    }
   ],
   "source": [
    "df"
   ]
  },
  {
   "cell_type": "code",
   "execution_count": 63,
   "id": "df036a98",
   "metadata": {},
   "outputs": [],
   "source": [
    "import pickle\n",
    "pickle.dump(model, open('./loan-eligibility-app/model.pkl','wb'))"
   ]
  },
  {
   "cell_type": "code",
   "execution_count": null,
   "id": "cb32cc65",
   "metadata": {},
   "outputs": [],
   "source": []
  }
 ],
 "metadata": {
  "kernelspec": {
   "display_name": "Python 3 (ipykernel)",
   "language": "python",
   "name": "python3"
  },
  "language_info": {
   "codemirror_mode": {
    "name": "ipython",
    "version": 3
   },
   "file_extension": ".py",
   "mimetype": "text/x-python",
   "name": "python",
   "nbconvert_exporter": "python",
   "pygments_lexer": "ipython3",
   "version": "3.10.9"
  }
 },
 "nbformat": 4,
 "nbformat_minor": 5
}
